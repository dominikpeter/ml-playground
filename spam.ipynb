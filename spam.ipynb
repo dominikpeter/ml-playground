{
 "cells": [
  {
   "cell_type": "code",
   "execution_count": 1,
   "metadata": {},
   "outputs": [],
   "source": [
    "import pandas as pd\n",
    "import numpy as np\n",
    "import xgboost as xgb\n",
    "\n",
    "import nltk\n",
    "from nltk.corpus import stopwords\n",
    "\n",
    "import matplotlib.pyplot as plt\n",
    "import seaborn as sns\n",
    "\n",
    "from sklearn.feature_extraction.text import CountVectorizer, TfidfVectorizer\n",
    "from sklearn.model_selection import train_test_split\n",
    "from sklearn.metrics import log_loss\n",
    "from sklearn.model_selection import GridSearchCV\n",
    "\n",
    "from scipy.sparse import hstack"
   ]
  },
  {
   "cell_type": "code",
   "execution_count": 2,
   "metadata": {},
   "outputs": [
    {
     "name": "stdout",
     "output_type": "stream",
     "text": [
      "[nltk_data] Downloading package stopwords to C:\\Users\\Dominik\n",
      "[nltk_data]     Peter\\AppData\\Roaming\\nltk_data...\n",
      "[nltk_data]   Package stopwords is already up-to-date!\n"
     ]
    },
    {
     "data": {
      "text/plain": [
       "True"
      ]
     },
     "execution_count": 2,
     "metadata": {},
     "output_type": "execute_result"
    }
   ],
   "source": [
    "nltk.download('stopwords')"
   ]
  },
  {
   "cell_type": "code",
   "execution_count": 3,
   "metadata": {},
   "outputs": [],
   "source": [
    "df = pd.read_csv(\"https://raw.githubusercontent.com/tejank10/Spam-or-Ham/master/spam.csv\", encoding=\"latin1\")"
   ]
  },
  {
   "cell_type": "code",
   "execution_count": 4,
   "metadata": {},
   "outputs": [
    {
     "data": {
      "text/html": [
       "<div>\n",
       "<style scoped>\n",
       "    .dataframe tbody tr th:only-of-type {\n",
       "        vertical-align: middle;\n",
       "    }\n",
       "\n",
       "    .dataframe tbody tr th {\n",
       "        vertical-align: top;\n",
       "    }\n",
       "\n",
       "    .dataframe thead th {\n",
       "        text-align: right;\n",
       "    }\n",
       "</style>\n",
       "<table border=\"1\" class=\"dataframe\">\n",
       "  <thead>\n",
       "    <tr style=\"text-align: right;\">\n",
       "      <th></th>\n",
       "      <th>label</th>\n",
       "      <th>text</th>\n",
       "    </tr>\n",
       "  </thead>\n",
       "  <tbody>\n",
       "    <tr>\n",
       "      <th>0</th>\n",
       "      <td>ham</td>\n",
       "      <td>Go until jurong point, crazy.. Available only ...</td>\n",
       "    </tr>\n",
       "    <tr>\n",
       "      <th>1</th>\n",
       "      <td>ham</td>\n",
       "      <td>Ok lar... Joking wif u oni...</td>\n",
       "    </tr>\n",
       "    <tr>\n",
       "      <th>2</th>\n",
       "      <td>spam</td>\n",
       "      <td>Free entry in 2 a wkly comp to win FA Cup fina...</td>\n",
       "    </tr>\n",
       "    <tr>\n",
       "      <th>3</th>\n",
       "      <td>ham</td>\n",
       "      <td>U dun say so early hor... U c already then say...</td>\n",
       "    </tr>\n",
       "    <tr>\n",
       "      <th>4</th>\n",
       "      <td>ham</td>\n",
       "      <td>Nah I don't think he goes to usf, he lives aro...</td>\n",
       "    </tr>\n",
       "  </tbody>\n",
       "</table>\n",
       "</div>"
      ],
      "text/plain": [
       "  label                                               text\n",
       "0   ham  Go until jurong point, crazy.. Available only ...\n",
       "1   ham                      Ok lar... Joking wif u oni...\n",
       "2  spam  Free entry in 2 a wkly comp to win FA Cup fina...\n",
       "3   ham  U dun say so early hor... U c already then say...\n",
       "4   ham  Nah I don't think he goes to usf, he lives aro..."
      ]
     },
     "execution_count": 4,
     "metadata": {},
     "output_type": "execute_result"
    }
   ],
   "source": [
    "df = df.iloc[:, :2].copy()\n",
    "df.columns = ['label', 'text']\n",
    "df['label'] = pd.Categorical(df['label'])\n",
    "#df['fake_feature'] = df['label'].cat.codes + np.random.randint(0, 100, len(df))\n",
    "df.head()"
   ]
  },
  {
   "cell_type": "code",
   "execution_count": 5,
   "metadata": {},
   "outputs": [],
   "source": [
    "train, test = train_test_split(df, test_size=.2)"
   ]
  },
  {
   "cell_type": "code",
   "execution_count": 6,
   "metadata": {},
   "outputs": [],
   "source": [
    "#vec = CountVectorizer(encoding='latin1')\n",
    "vec = TfidfVectorizer(encoding='latin1', stop_words=stopwords.words(\"english\"))\n",
    "vec.fit(train['text'])\n",
    "X_train = vec.transform(train['text'])\n",
    "X_test = vec.transform(test['text'])"
   ]
  },
  {
   "cell_type": "code",
   "execution_count": 7,
   "metadata": {},
   "outputs": [
    {
     "data": {
      "text/plain": [
       "<4457x7506 sparse matrix of type '<class 'numpy.float64'>'\n",
       "\twith 37608 stored elements in Compressed Sparse Row format>"
      ]
     },
     "execution_count": 7,
     "metadata": {},
     "output_type": "execute_result"
    }
   ],
   "source": [
    "#X_train = hstack([train['fake_feature'].values.reshape(-1, 1), X_train])\n",
    "X_train"
   ]
  },
  {
   "cell_type": "code",
   "execution_count": 8,
   "metadata": {},
   "outputs": [
    {
     "data": {
      "text/plain": [
       "<1115x7506 sparse matrix of type '<class 'numpy.float64'>'\n",
       "\twith 8550 stored elements in Compressed Sparse Row format>"
      ]
     },
     "execution_count": 8,
     "metadata": {},
     "output_type": "execute_result"
    }
   ],
   "source": [
    "#X_test = hstack([test['fake_feature'].values.reshape(-1, 1), X_test])\n",
    "X_test"
   ]
  },
  {
   "cell_type": "code",
   "execution_count": 9,
   "metadata": {},
   "outputs": [],
   "source": [
    "#model = xgb.XGBClassifier(max_depth=5, n_estimators=100)"
   ]
  },
  {
   "cell_type": "code",
   "execution_count": 10,
   "metadata": {},
   "outputs": [],
   "source": [
    "#model.fit(X_train, train['label'].cat.codes)"
   ]
  },
  {
   "cell_type": "code",
   "execution_count": 11,
   "metadata": {},
   "outputs": [
    {
     "name": "stdout",
     "output_type": "stream",
     "text": [
      "Fitting 5 folds for each of 24 candidates, totalling 120 fits\n"
     ]
    },
    {
     "name": "stderr",
     "output_type": "stream",
     "text": [
      "[Parallel(n_jobs=3)]: Using backend LokyBackend with 3 concurrent workers.\n",
      "[Parallel(n_jobs=3)]: Done  44 tasks      | elapsed:  1.2min\n",
      "[Parallel(n_jobs=3)]: Done 120 out of 120 | elapsed:  5.2min finished\n"
     ]
    },
    {
     "data": {
      "text/plain": [
       "GridSearchCV(cv=5, error_score='raise-deprecating',\n",
       "       estimator=XGBClassifier(base_score=0.5, booster='gbtree', colsample_bylevel=1,\n",
       "       colsample_bytree=1, gamma=0, learning_rate=0.1, max_delta_step=0,\n",
       "       max_depth=3, min_child_weight=1, missing=None, n_estimators=100,\n",
       "       n_jobs=1, nthread=None, objective='binary:logistic', random_state=0,\n",
       "       reg_alpha=0, reg_lambda=1, scale_pos_weight=1, seed=None,\n",
       "       silent=True, subsample=1),\n",
       "       fit_params=None, iid='warn', n_jobs=3,\n",
       "       param_grid={'n_estimators': [100, 400, 700], 'max_depth': [1, 3], 'min_child_weight': [2, 4, 6, 8]},\n",
       "       pre_dispatch='2*n_jobs', refit=True, return_train_score=True,\n",
       "       scoring='neg_log_loss', verbose=1)"
      ]
     },
     "execution_count": 11,
     "metadata": {},
     "output_type": "execute_result"
    }
   ],
   "source": [
    "xgb_classifier = xgb.XGBClassifier()\n",
    "\n",
    "parameters = {'n_estimators':list(range(100, 1000, 300)),\n",
    "              'max_depth':list(range(1, 4, 2)),\n",
    "              #'learning_rate':[i/100 for i in range(10, 90, 10)],\n",
    "              'min_child_weight':[2,4,6,8],\n",
    "             }\n",
    "\n",
    "clf = GridSearchCV(xgb_classifier,\n",
    "                   param_grid = parameters,\n",
    "                   cv=5,\n",
    "                   verbose=1,\n",
    "                   n_jobs=3,\n",
    "                   return_train_score=True,\n",
    "                   scoring='neg_log_loss',\n",
    "                  )\n",
    "clf.fit(X_train, train['label'].cat.codes)"
   ]
  },
  {
   "cell_type": "code",
   "execution_count": 13,
   "metadata": {},
   "outputs": [
    {
     "data": {
      "text/plain": [
       "XGBClassifier(base_score=0.5, booster='gbtree', colsample_bylevel=1,\n",
       "       colsample_bytree=1, gamma=0, learning_rate=0.1, max_delta_step=0,\n",
       "       max_depth=3, min_child_weight=2, missing=None, n_estimators=400,\n",
       "       n_jobs=1, nthread=None, objective='binary:logistic', random_state=0,\n",
       "       reg_alpha=0, reg_lambda=1, scale_pos_weight=1, seed=None,\n",
       "       silent=True, subsample=1)"
      ]
     },
     "execution_count": 13,
     "metadata": {},
     "output_type": "execute_result"
    }
   ],
   "source": [
    "final_model = clf.best_estimator_\n",
    "final_model.fit(X_train, train['label'].cat.codes)"
   ]
  },
  {
   "cell_type": "code",
   "execution_count": 14,
   "metadata": {},
   "outputs": [],
   "source": [
    "fi = pd.DataFrame(list(\n",
    "    zip(\n",
    "        #['fake_feature'] + vec.get_feature_names(),\n",
    "        vec.get_feature_names(),\n",
    "        final_model.feature_importances_)),\n",
    "                  columns=['name', 'importance']\n",
    ").sort_values('importance', ascending=False)"
   ]
  },
  {
   "cell_type": "code",
   "execution_count": 15,
   "metadata": {},
   "outputs": [
    {
     "data": {
      "text/plain": [
       "<matplotlib.axes._subplots.AxesSubplot at 0x11ed8f2af28>"
      ]
     },
     "execution_count": 15,
     "metadata": {},
     "output_type": "execute_result"
    },
    {
     "data": {
      "image/png": "[encoded data removed]",
      "text/plain": [
       "<matplotlib.figure.Figure at 0x11ed8f2a898>"
      ]
     },
     "metadata": {
      "needs_background": "light"
     },
     "output_type": "display_data"
    }
   ],
   "source": [
    "f, ax = plt.subplots(figsize=(18,12))\n",
    "ax.set_title('Feature Importance', {\"fontsize\": 30})\n",
    "sns.barplot(x=\"importance\", y=\"name\", data=fi.head(20), ax=ax, palette=\"magma\", estimator=sum)"
   ]
  },
  {
   "cell_type": "code",
   "execution_count": 16,
   "metadata": {},
   "outputs": [
    {
     "data": {
      "text/plain": [
       "0.9721973094170404"
      ]
     },
     "execution_count": 16,
     "metadata": {},
     "output_type": "execute_result"
    }
   ],
   "source": [
    "#final model score\n",
    "final_model.score(X_test, test['label'].cat.codes)"
   ]
  },
  {
   "cell_type": "code",
   "execution_count": 17,
   "metadata": {},
   "outputs": [
    {
     "data": {
      "text/plain": [
       "0.8618834080717489"
      ]
     },
     "execution_count": 17,
     "metadata": {},
     "output_type": "execute_result"
    }
   ],
   "source": [
    "#naive score\n",
    "np.max(test.groupby('label')['text'].count()) / len(test)"
   ]
  },
  {
   "cell_type": "code",
   "execution_count": 18,
   "metadata": {},
   "outputs": [],
   "source": [
    "def add_prediction(df, true_y, model, pred_proba=True):\n",
    "    df['prediction'] = model.predict(X_test)\n",
    "    if df[true_y].dtypes.name == 'category':\n",
    "        df['prediction'] = df['prediction'].map(\n",
    "            dict(enumerate(df[true_y].cat.categories)))\n",
    "    if pred_proba:\n",
    "        df['pred_proba'] = np.max(\n",
    "            model.predict_proba(X_test), axis=1)\n",
    "    return df"
   ]
  },
  {
   "cell_type": "code",
   "execution_count": 19,
   "metadata": {},
   "outputs": [],
   "source": [
    "def print_top_n_prediction(df, n, label):\n",
    "    for i in df[df['label']==label].reset_index().itertuples():\n",
    "        if i[0] > n:\n",
    "            break\n",
    "        print(f\"\"\"True Label = {i[2]}, Prediction = {i[4]}, Prediction Probability = {i[5]:.4f}\n",
    "--------------------------------------------------------------------------------------------\n",
    "{i[3].strip()}\\n\\n\"\"\")"
   ]
  },
  {
   "cell_type": "code",
   "execution_count": 20,
   "metadata": {},
   "outputs": [],
   "source": [
    "test_copy = (test.copy()\n",
    "                 .pipe(add_prediction, 'label', final_model)\n",
    "                 .sort_values('pred_proba', ascending=False))"
   ]
  },
  {
   "cell_type": "code",
   "execution_count": 21,
   "metadata": {},
   "outputs": [
    {
     "name": "stdout",
     "output_type": "stream",
     "text": [
      "True Label = spam, Prediction = spam, Prediction Probability = 1.0000\n",
      "--------------------------------------------------------------------------------------------\n",
      "Do you want a New Nokia 3510i Colour Phone Delivered Tomorrow? With 200 FREE minutes to any mobile + 100 FREE text + FREE camcorder Reply or Call 8000930705\n",
      "\n",
      "\n",
      "True Label = spam, Prediction = spam, Prediction Probability = 1.0000\n",
      "--------------------------------------------------------------------------------------------\n",
      "Do you want 750 anytime any network mins 150 text and a NEW video phone for only five pounds per week call 08000776320 now or reply for delivery Tomorrow\n",
      "\n",
      "\n",
      "True Label = spam, Prediction = spam, Prediction Probability = 1.0000\n",
      "--------------------------------------------------------------------------------------------\n",
      "Want to funk up ur fone with a weekly new tone reply TONES2U 2 this text. www.ringtones.co.uk, the original n best. Tones 3GBP network operator rates apply\n",
      "\n",
      "\n",
      "True Label = spam, Prediction = spam, Prediction Probability = 1.0000\n",
      "--------------------------------------------------------------------------------------------\n",
      "U can WIN å£100 of Music Gift Vouchers every week starting NOW Txt the word DRAW to 87066 TsCs www.Idew.com SkillGame, 1Winaweek, age16. 150ppermessSubscription\n",
      "\n",
      "\n",
      "True Label = spam, Prediction = spam, Prediction Probability = 1.0000\n",
      "--------------------------------------------------------------------------------------------\n",
      "Wanna get laid 2nite? Want real Dogging locations sent direct to ur mobile? Join the UK's largest Dogging Network. Txt PARK to 69696 now! Nyt. ec2a. 3lp å£1.50/msg\n",
      "\n",
      "\n",
      "True Label = spam, Prediction = spam, Prediction Probability = 1.0000\n",
      "--------------------------------------------------------------------------------------------\n",
      "Do you want a New Nokia 3510i colour phone DeliveredTomorrow? With 300 free minutes to any mobile + 100 free texts + Free Camcorder reply or call 08000930705.\n",
      "\n",
      "\n"
     ]
    }
   ],
   "source": [
    "print_top_n_prediction(test_copy, 5, 'spam')"
   ]
  },
  {
   "cell_type": "code",
   "execution_count": 22,
   "metadata": {},
   "outputs": [
    {
     "name": "stdout",
     "output_type": "stream",
     "text": [
      "True Label = ham, Prediction = ham, Prediction Probability = 0.9999\n",
      "--------------------------------------------------------------------------------------------\n",
      "My friend just got here and says he's upping his order by a few grams (he's got $ &lt;#&gt; ), when can you get here?\n",
      "\n",
      "\n",
      "True Label = ham, Prediction = ham, Prediction Probability = 0.9998\n",
      "--------------------------------------------------------------------------------------------\n",
      "Dear we got  &lt;#&gt;  dollars hi hi\n",
      "\n",
      "\n",
      "True Label = ham, Prediction = ham, Prediction Probability = 0.9997\n",
      "--------------------------------------------------------------------------------------------\n",
      "I will cme i want to go to hos 2morow. After that i wil cme. This what i got from her dear what to do. She didnt say any time\n",
      "\n",
      "\n",
      "True Label = ham, Prediction = ham, Prediction Probability = 0.9995\n",
      "--------------------------------------------------------------------------------------------\n",
      "U gd lor go shopping i got stuff to do. U wan 2 watch infernal affairs a not? Come lar...\n",
      "\n",
      "\n",
      "True Label = ham, Prediction = ham, Prediction Probability = 0.9995\n",
      "--------------------------------------------------------------------------------------------\n",
      "I wil be there with in  &lt;#&gt;  minutes. Got any space\n",
      "\n",
      "\n",
      "True Label = ham, Prediction = ham, Prediction Probability = 0.9995\n",
      "--------------------------------------------------------------------------------------------\n",
      "Don't look back at the building because you have no coat and i don't want you to get more sick. Just hurry home and wear a coat to the gym!!!\n",
      "\n",
      "\n"
     ]
    }
   ],
   "source": [
    "print_top_n_prediction(test_copy, 5, 'ham')"
   ]
  }
 ],
 "metadata": {
  "kernelspec": {
   "display_name": "Python 3",
   "language": "python",
   "name": "python3"
  },
  "language_info": {
   "codemirror_mode": {
    "name": "ipython",
    "version": 3
   },
   "file_extension": ".py",
   "mimetype": "text/x-python",
   "name": "python",
   "nbconvert_exporter": "python",
   "pygments_lexer": "ipython3",
   "version": "3.6.6"
  }
 },
 "nbformat": 4,
 "nbformat_minor": 2
}
