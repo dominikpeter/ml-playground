{
 "cells": [
  {
   "cell_type": "code",
   "execution_count": 164,
   "metadata": {},
   "outputs": [],
   "source": [
    "import numpy as np\n",
    "import pandas as pd\n",
    "import sys\n",
    "\n",
    "import seaborn as sns\n",
    "import matplotlib.pylab as plt\n",
    "\n",
    "from scipy.stats import chi2_contingency"
   ]
  },
  {
   "cell_type": "code",
   "execution_count": 165,
   "metadata": {},
   "outputs": [],
   "source": [
    "np.random.seed(2323)"
   ]
  },
  {
   "cell_type": "code",
   "execution_count": 177,
   "metadata": {},
   "outputs": [],
   "source": [
    "a = np.random.binomial(1, 0.21, 8908).astype(\"bool\")\n",
    "b = np.random.binomial(1, 0.2, 6976).astype(\"bool\")"
   ]
  },
  {
   "cell_type": "code",
   "execution_count": 178,
   "metadata": {},
   "outputs": [
    {
     "data": {
      "text/html": [
       "<div>\n",
       "<style scoped>\n",
       "    .dataframe tbody tr th:only-of-type {\n",
       "        vertical-align: middle;\n",
       "    }\n",
       "\n",
       "    .dataframe tbody tr th {\n",
       "        vertical-align: top;\n",
       "    }\n",
       "\n",
       "    .dataframe thead th {\n",
       "        text-align: right;\n",
       "    }\n",
       "</style>\n",
       "<table border=\"1\" class=\"dataframe\">\n",
       "  <thead>\n",
       "    <tr style=\"text-align: right;\">\n",
       "      <th>Test</th>\n",
       "      <th>A</th>\n",
       "      <th>B</th>\n",
       "      <th>All</th>\n",
       "    </tr>\n",
       "    <tr>\n",
       "      <th>Conversion</th>\n",
       "      <th></th>\n",
       "      <th></th>\n",
       "      <th></th>\n",
       "    </tr>\n",
       "  </thead>\n",
       "  <tbody>\n",
       "    <tr>\n",
       "      <th>False</th>\n",
       "      <td>7019</td>\n",
       "      <td>5543</td>\n",
       "      <td>12562</td>\n",
       "    </tr>\n",
       "    <tr>\n",
       "      <th>True</th>\n",
       "      <td>1889</td>\n",
       "      <td>1433</td>\n",
       "      <td>3322</td>\n",
       "    </tr>\n",
       "    <tr>\n",
       "      <th>All</th>\n",
       "      <td>8908</td>\n",
       "      <td>6976</td>\n",
       "      <td>15884</td>\n",
       "    </tr>\n",
       "  </tbody>\n",
       "</table>\n",
       "</div>"
      ],
      "text/plain": [
       "Test           A     B    All\n",
       "Conversion                   \n",
       "False       7019  5543  12562\n",
       "True        1889  1433   3322\n",
       "All         8908  6976  15884"
      ]
     },
     "execution_count": 178,
     "metadata": {},
     "output_type": "execute_result"
    }
   ],
   "source": [
    "df = pd.DataFrame(np.hstack([a, b]), columns=['Conversion'])\n",
    "df.loc[:len(a),'Test'] = 'A'\n",
    "df.loc[len(a):, 'Test'] = 'B'\n",
    "frequency_table = pd.crosstab(df.Conversion, df.Test, margins=True)\n",
    "frequency_table"
   ]
  },
  {
   "cell_type": "code",
   "execution_count": 179,
   "metadata": {},
   "outputs": [
    {
     "name": "stdout",
     "output_type": "stream",
     "text": [
      " Conversion Rate A Test 21.21%\n",
      " Conversion Rate B Test 20.54%\n",
      " Conversion Rate Difference 0.66%\n"
     ]
    }
   ],
   "source": [
    "print(f' Conversion Rate A Test {a.mean():.2%}')\n",
    "print(f' Conversion Rate B Test {b.mean():.2%}')\n",
    "print(f' Conversion Rate Difference {a.mean() - b.mean():.2%}')"
   ]
  },
  {
   "cell_type": "code",
   "execution_count": 180,
   "metadata": {},
   "outputs": [],
   "source": [
    "def permutation(a, b):\n",
    "    ab = np.concatenate([a, b])\n",
    "    np.random.shuffle(ab)\n",
    "    new_a = ab[:len(a)]\n",
    "    new_b = ab[len(a):]\n",
    "    assert(len(a)==len(new_a))\n",
    "    delta = np.square(new_a.mean() - new_b.mean())\n",
    "    return delta"
   ]
  },
  {
   "cell_type": "code",
   "execution_count": 181,
   "metadata": {},
   "outputs": [],
   "source": [
    "def test(a, b, n_samples=1000):\n",
    "    rng = range(n_samples)\n",
    "    samples = np.fromiter(\n",
    "        map(lambda x: permutation(\n",
    "            a, b), rng), dtype=np.float)\n",
    "    prob_A = a.mean()\n",
    "    prob_B = b.mean()\n",
    "    delta = np.square(prob_A - prob_B)\n",
    "    p_val = (samples >= delta).mean()\n",
    "    return p_val, samples       "
   ]
  },
  {
   "cell_type": "code",
   "execution_count": 182,
   "metadata": {},
   "outputs": [
    {
     "name": "stdout",
     "output_type": "stream",
     "text": [
      "P-Value = 32.06%\n"
     ]
    }
   ],
   "source": [
    "p_val, samples = test(a, b, n_samples=10000)\n",
    "print(f'P-Value = {p_val:.2%}')"
   ]
  },
  {
   "cell_type": "code",
   "execution_count": 183,
   "metadata": {},
   "outputs": [
    {
     "data": {
      "text/plain": [
       "<matplotlib.axes._subplots.AxesSubplot at 0x20cbafbd0f0>"
      ]
     },
     "execution_count": 183,
     "metadata": {},
     "output_type": "execute_result"
    },
    {
     "data": {
      "image/png": "[encoded data removed]",
      "text/plain": [
       "<matplotlib.figure.Figure at 0x20cbafc5128>"
      ]
     },
     "metadata": {
      "needs_background": "light"
     },
     "output_type": "display_data"
    }
   ],
   "source": [
    "f, ax = plt.subplots(figsize=(20,10))\n",
    "sns.distplot(samples, ax=ax)"
   ]
  },
  {
   "cell_type": "code",
   "execution_count": 184,
   "metadata": {},
   "outputs": [],
   "source": [
    "obs = np.array([[a.sum(), b.sum()],[(~a).sum(), (~b).sum()]])"
   ]
  },
  {
   "cell_type": "code",
   "execution_count": 185,
   "metadata": {},
   "outputs": [
    {
     "data": {
      "text/plain": [
       "array([[1889, 1433],\n",
       "       [7019, 5543]])"
      ]
     },
     "execution_count": 185,
     "metadata": {},
     "output_type": "execute_result"
    }
   ],
   "source": [
    "obs"
   ]
  },
  {
   "cell_type": "code",
   "execution_count": 186,
   "metadata": {},
   "outputs": [],
   "source": [
    "chi2, p, dof, ex = chi2_contingency(obs, correction=False)"
   ]
  },
  {
   "cell_type": "code",
   "execution_count": 187,
   "metadata": {},
   "outputs": [
    {
     "name": "stdout",
     "output_type": "stream",
     "text": [
      "P-Value = 30.73%\n"
     ]
    }
   ],
   "source": [
    "print(f'P-Value = {p:.2%}')"
   ]
  },
  {
   "cell_type": "code",
   "execution_count": 188,
   "metadata": {},
   "outputs": [
    {
     "name": "stdout",
     "output_type": "stream",
     "text": [
      "P-Value = 0.00%\n"
     ]
    }
   ],
   "source": [
    "a = np.random.binomial(1, 0.12, 8908).astype(\"bool\")\n",
    "b = np.random.binomial(1, 0.1, 6976).astype(\"bool\")\n",
    "p_val, samples = test(a, b, n_samples=1000)\n",
    "print(f'P-Value = {p_val:.2%}')"
   ]
  },
  {
   "cell_type": "code",
   "execution_count": null,
   "metadata": {},
   "outputs": [],
   "source": []
  }
 ],
 "metadata": {
  "kernelspec": {
   "display_name": "Python 3",
   "language": "python",
   "name": "python3"
  },
  "language_info": {
   "codemirror_mode": {
    "name": "ipython",
    "version": 3
   },
   "file_extension": ".py",
   "mimetype": "text/x-python",
   "name": "python",
   "nbconvert_exporter": "python",
   "pygments_lexer": "ipython3",
   "version": "3.6.6"
  }
 },
 "nbformat": 4,
 "nbformat_minor": 2
}
